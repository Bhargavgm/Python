{
 "cells": [
  {
   "cell_type": "markdown",
   "metadata": {},
   "source": [
    "# Output formatting\n",
    "    - %\n",
    "    -  .format"
   ]
  },
  {
   "cell_type": "code",
   "execution_count": 6,
   "metadata": {},
   "outputs": [
    {
     "name": "stdout",
     "output_type": "stream",
     "text": [
      "a value is:20\n"
     ]
    }
   ],
   "source": [
    "a = 20\n",
    "print('a value is:%d'%a)"
   ]
  },
  {
   "cell_type": "code",
   "execution_count": 5,
   "metadata": {},
   "outputs": [
    {
     "name": "stdout",
     "output_type": "stream",
     "text": [
      "a value is:10 and b value is:30\n"
     ]
    }
   ],
   "source": [
    "a = 10\n",
    "b = 30\n",
    "print(\"a value is:%d and b value is:%d\"%(a,b))"
   ]
  },
  {
   "cell_type": "code",
   "execution_count": 7,
   "metadata": {},
   "outputs": [
    {
     "name": "stdout",
     "output_type": "stream",
     "text": [
      "a value is:20\n"
     ]
    }
   ],
   "source": [
    "a = 20\n",
    "print('a value is:{}'.format(a))"
   ]
  },
  {
   "cell_type": "code",
   "execution_count": 13,
   "metadata": {},
   "outputs": [
    {
     "name": "stdout",
     "output_type": "stream",
     "text": [
      "a value is:20 and b value is:30\n",
      "a value is:20 and b value is:30\n"
     ]
    }
   ],
   "source": [
    "print(\"a value is:{} and b value is:{}\".format(a,b))\n",
    "print(\"a value is:{1} and b value is:{0}\".format(b,a))"
   ]
  },
  {
   "cell_type": "code",
   "execution_count": 16,
   "metadata": {},
   "outputs": [
    {
     "name": "stdout",
     "output_type": "stream",
     "text": [
      "3\n",
      "4\n",
      "2\n",
      "4\n",
      "5\n",
      "Square of 3 is 9\n",
      "Cube of 3 is 27\n",
      "Addition of 3 and 4 is 7\n",
      "Sub of 3 and 4 is -1\n",
      "multiplication of 3 and 4 is 12\n",
      "Division of 3 and 4 is 0.75\n",
      "floor division of 3 and 4 is 0\n",
      "Power of 3 and 4 is 81\n",
      "Equation of ai^2+bj+c is 39\n"
     ]
    }
   ],
   "source": [
    "i = int(input())\n",
    "j = int(input())\n",
    "k=int(i)\n",
    "a=int(input())\n",
    "b=int(input())\n",
    "c=int(input())\n",
    "print(\"Square of {} is {}\".format(k,k*k))\n",
    "print(\"Cube of {} is {}\".format(k,k*k*k))\n",
    "print(\"Addition of {} and {} is {}\".format(i,j,i+j))\n",
    "print(\"Sub of {} and {} is {}\".format(i,j,i-j))\n",
    "print(\"multiplication of {} and {} is {}\".format(i,j,i*j))\n",
    "print(\"Division of {} and {} is {}\".format(i,j,i/j))\n",
    "print(\"floor division of {} and {} is {}\".format(i,j,i//j))\n",
    "print(\"Power of {} and {} is {}\".format(i,j,i**j))  \n",
    "print(\"Equation of ai^2+bj+c is {}\".format((a*(i*i)+b*j+c)))"
   ]
  },
  {
   "cell_type": "code",
   "execution_count": 20,
   "metadata": {},
   "outputs": [
    {
     "name": "stdout",
     "output_type": "stream",
     "text": [
      "34.5\n",
      "3\n",
      "Square of 34 is:1190\n",
      "Cube of 34 is:41063\n",
      "Addition of 34 and 3 :37\n",
      "Difference of 34 and 3 :31\n",
      "Multiplication of 34 and 3 :103\n",
      "Base of 34 and exponent 3 power is:41063\n",
      "Equation of  2k^3+5m^2+6 and its value is:78659\n"
     ]
    }
   ],
   "source": [
    "k = float(input())\n",
    "m = int(input())\n",
    "print(\"Square of {} is:{}\".format(int(k),int(k*k)))\n",
    "print(\"Cube of {} is:{}\".format(int(k),int(k*k*k)))\n",
    "print(\"Addition of {} and {} :{}\".format(int(k),m,int(k+m)))\n",
    "print(\"Difference of {} and {} :{}\".format(int(k),m,int(k-m)))\n",
    "print(\"Multiplication of {} and {} :{}\".format(int(k),m,int(k*m)))\n",
    "print(\"Base of {} and exponent {} power is:{}\".format(int(k),m,int(k**m)))\n",
    "print(\"Equation of  2k^3+5m^2+6 and its value is:{}\".format(2*(int(k)**3)+5*(m**2)+6))"
   ]
  },
  {
   "cell_type": "markdown",
   "metadata": {},
   "source": [
    "# Conditional Statements\n",
    "    -To check whether the given statements is True or False\n",
    "    - if ->single case\n",
    "    - if-else->two cases\n",
    "    - nested if -> two or more cases\n",
    "    - elif ->three or more cases"
   ]
  },
  {
   "cell_type": "markdown",
   "metadata": {},
   "source": [
    "# Syntax of if\n",
    "    if(condition):\n",
    "        //Statements\n",
    "        \n",
    " # if-else\n",
    "    if(condition):\n",
    "       //Stat\n",
    "    else\n",
    "       //stat\n",
    " # nested if\n",
    "    if(condition):\n",
    "        if(condition):\n",
    "           //stat\n",
    "        else:\n",
    "           //Stat\n",
    "    else:\n",
    "       //stat\n",
    " # elif\n",
    "    if(condition):\n",
    "       //stat-1\n",
    "    elif(condition):\n",
    "       //stat-2\n",
    "    elif(condition):\n",
    "       //stat-3\n",
    "        | |\n",
    "        | |\n",
    "    else:\n",
    "       //stat-n"
   ]
  },
  {
   "cell_type": "code",
   "execution_count": 21,
   "metadata": {},
   "outputs": [
    {
     "name": "stdout",
     "output_type": "stream",
     "text": [
      "4\n"
     ]
    }
   ],
   "source": [
    "n =int(input())\n",
    "if n == 0:\n",
    "    print(\"n value is:{}\".format(n))"
   ]
  },
  {
   "cell_type": "code",
   "execution_count": 22,
   "metadata": {},
   "outputs": [
    {
     "name": "stdout",
     "output_type": "stream",
     "text": [
      "5\n",
      "Given n value is an odd number\n"
     ]
    }
   ],
   "source": [
    "n = int(input())\n",
    "if n%2 == 0:\n",
    "    print(\"Given n value is an even number\")\n",
    "else:\n",
    "    print(\"Given n value is an odd number\")"
   ]
  },
  {
   "cell_type": "code",
   "execution_count": 24,
   "metadata": {},
   "outputs": [
    {
     "name": "stdout",
     "output_type": "stream",
     "text": [
      "33\n",
      "m value is 33 and it is positive\n"
     ]
    }
   ],
   "source": [
    "m = int(input())\n",
    "if m>0:\n",
    "    print(\"m value is {} and it is positive\".format(m))\n",
    "else:\n",
    "    print(\"m value is {} and it is negative\".format(m))"
   ]
  },
  {
   "cell_type": "code",
   "execution_count": 31,
   "metadata": {},
   "outputs": [
    {
     "name": "stdout",
     "output_type": "stream",
     "text": [
      "1234\n",
      "ram\n",
      "welcome userid 1234\n"
     ]
    }
   ],
   "source": [
    "userid = int(input())\n",
    "password = input()\n",
    "i = 1234\n",
    "j = 'ram'\n",
    "if(userid == i and password ==j):\n",
    "    print(\"welcome userid {}\".format(userid))\n",
    "else:\n",
    "    print(\"Userid {} is correct and password is invalid\".format(userid))"
   ]
  },
  {
   "cell_type": "code",
   "execution_count": 32,
   "metadata": {},
   "outputs": [
    {
     "name": "stdout",
     "output_type": "stream",
     "text": [
      "1234\n",
      "1234\n",
      "Userid 1234 or password is incorrect\n"
     ]
    }
   ],
   "source": [
    "uid = int(input())\n",
    "pin = int(input())\n",
    "if uid == 234:\n",
    "    if pin == 1234:\n",
    "        print(\"Userid {} or password is incorrect\".format(uid))\n",
    "    else:\n",
    "        print(\"Userid {} or password is incorrect\".format(uid))\n",
    "else:\n",
    "    print(\"Userid {} or password is incorrect\".format(uid))"
   ]
  },
  {
   "cell_type": "code",
   "execution_count": 33,
   "metadata": {},
   "outputs": [
    {
     "name": "stdout",
     "output_type": "stream",
     "text": [
      "234\n",
      "7890\n",
      "Userid 234 or password is incorrect\n"
     ]
    }
   ],
   "source": [
    "uid = int(input())\n",
    "pin = input()\n",
    "if uid == 234 and pin == '0234':\n",
    "    print(\"Welcome userid{}\".format(uid))\n",
    "else:\n",
    "    print(\"Userid {} or password is incorrect\".format(uid))"
   ]
  },
  {
   "cell_type": "code",
   "execution_count": 42,
   "metadata": {},
   "outputs": [
    {
     "name": "stdout",
     "output_type": "stream",
     "text": [
      "123\n",
      "456\n",
      "welcome userid 123\n"
     ]
    }
   ],
   "source": [
    "uid = int(input())\n",
    "if uid == 123:\n",
    "    pin = int(input())\n",
    "    if pin == 456:\n",
    "        print(\"welcome userid {}\".format(uid))\n",
    "    else:\n",
    "        print(\"Invalid password for userid {}\".format(uid))\n",
    "else:\n",
    "    print(\"Invalid userid {}\".format(uid))"
   ]
  },
  {
   "cell_type": "code",
   "execution_count": 2,
   "metadata": {},
   "outputs": [
    {
     "name": "stdout",
     "output_type": "stream",
     "text": [
      "10\n",
      "10 is divisible by 2\n"
     ]
    }
   ],
   "source": [
    "a = int(input())\n",
    "if a % 3 == 0 and a % 5 == 0:\n",
    "    print(\"Given value {} is a mulitiple of 3 and 5\".format(a))\n",
    "elif a % 3 == 0:\n",
    "    print(\"Given value {} is a multiple of 3\".format(a))\n",
    "elif a % 2 == 0:\n",
    "    print(\"{} is divisible by 2\".format(a))\n",
    "else:\n",
    "    print(\"Given number is {}\".format(a))"
   ]
  },
  {
   "cell_type": "markdown",
   "metadata": {},
   "source": [
    "# Control Statements, Iterations, Loops, Repetition:\n",
    " - To control the flow of execution \n",
    " -for -> particular range\n",
    " - while -> infinity loop, it works like for also "
   ]
  },
  {
   "cell_type": "markdown",
   "metadata": {},
   "source": [
    "# for\n",
    "    ```syntax:\n",
    "        for itr_var in range(start,stop,step):\n",
    "                //statements;```\n",
    "    range(10) -> 0 - 9\n",
    "    range(1,10) -> 1 - 9\n",
    "    range(10,50,10) -> 10 20 30 40"
   ]
  },
  {
   "cell_type": "code",
   "execution_count": 4,
   "metadata": {},
   "outputs": [
    {
     "name": "stdout",
     "output_type": "stream",
     "text": [
      "0\n",
      "1\n",
      "2\n",
      "3\n",
      "4\n",
      "5\n",
      "6\n",
      "7\n",
      "8\n",
      "9\n"
     ]
    }
   ],
   "source": [
    "for i in range(10):\n",
    "    print(i)"
   ]
  },
  {
   "cell_type": "code",
   "execution_count": 5,
   "metadata": {},
   "outputs": [
    {
     "name": "stdout",
     "output_type": "stream",
     "text": [
      "1\n",
      "2\n",
      "3\n",
      "4\n",
      "5\n",
      "6\n",
      "7\n",
      "8\n",
      "9\n"
     ]
    }
   ],
   "source": [
    "for i in range(1,10):\n",
    "    print(i)"
   ]
  },
  {
   "cell_type": "code",
   "execution_count": 6,
   "metadata": {},
   "outputs": [
    {
     "name": "stdout",
     "output_type": "stream",
     "text": [
      "10\n",
      "20\n",
      "30\n",
      "40\n"
     ]
    }
   ],
   "source": [
    "for i in range(10,50,10):\n",
    "    print(i)"
   ]
  },
  {
   "cell_type": "code",
   "execution_count": 12,
   "metadata": {},
   "outputs": [
    {
     "name": "stdout",
     "output_type": "stream",
     "text": [
      "12\n",
      "0,1,2,3,4,5,6,7,8,9,10,11,"
     ]
    }
   ],
   "source": [
    "n = int(input())\n",
    "for i in range(n):\n",
    "    print(i,end=\",\")"
   ]
  },
  {
   "cell_type": "code",
   "execution_count": 14,
   "metadata": {},
   "outputs": [
    {
     "name": "stdout",
     "output_type": "stream",
     "text": [
      "12\n",
      "0 1 2 3 4 5 6 7 8 9 10 11 "
     ]
    }
   ],
   "source": [
    "n = int(input())\n",
    "for i in range(n):\n",
    "    print(i,end=\" \")"
   ]
  },
  {
   "cell_type": "code",
   "execution_count": 15,
   "metadata": {},
   "outputs": [
    {
     "name": "stdout",
     "output_type": "stream",
     "text": [
      "12\n",
      "0\n",
      "1\n",
      "2\n",
      "3\n",
      "4\n",
      "5\n",
      "6\n",
      "7\n",
      "8\n",
      "9\n",
      "10\n",
      "11\n"
     ]
    }
   ],
   "source": [
    "n = int(input())\n",
    "for i in range(n):\n",
    "    print(i)"
   ]
  },
  {
   "cell_type": "code",
   "execution_count": 16,
   "metadata": {},
   "outputs": [
    {
     "name": "stdout",
     "output_type": "stream",
     "text": [
      "12\n",
      "0,1,2,3,4,5,6,7,8,9,10,11,12,"
     ]
    }
   ],
   "source": [
    "n = int(input())\n",
    "for i in range(n+1):\n",
    "    print(i,end=\",\")"
   ]
  },
  {
   "cell_type": "code",
   "execution_count": 17,
   "metadata": {},
   "outputs": [
    {
     "name": "stdout",
     "output_type": "stream",
     "text": [
      "12\n",
      "2,3,4,5,6,7,8,9,10,11,12,13,14,"
     ]
    }
   ],
   "source": [
    "n = int(input())\n",
    "for i in range(n+1):\n",
    "    print(i+2,end=\",\")"
   ]
  },
  {
   "cell_type": "code",
   "execution_count": 18,
   "metadata": {},
   "outputs": [
    {
     "name": "stdout",
     "output_type": "stream",
     "text": [
      "20\n",
      "25\n",
      "20 21 22 23 24 "
     ]
    }
   ],
   "source": [
    "k = int(input())\n",
    "m = int(input())\n",
    "for nn in range(k,m):\n",
    "    print(nn,end = \" \")"
   ]
  },
  {
   "cell_type": "code",
   "execution_count": 27,
   "metadata": {},
   "outputs": [
    {
     "name": "stdout",
     "output_type": "stream",
     "text": [
      "1\n",
      "20\n",
      "2\n",
      "1 3 5 7 9 11 13 15 17 19 "
     ]
    }
   ],
   "source": [
    "k = int(input())\n",
    "m = int(input())\n",
    "s = int(input())\n",
    "for nn in range(k,m,s):\n",
    "    print(nn,end = \" \")"
   ]
  },
  {
   "cell_type": "code",
   "execution_count": 44,
   "metadata": {},
   "outputs": [
    {
     "name": "stdout",
     "output_type": "stream",
     "text": [
      "501\n",
      "560\n",
      "174M1A0501\n",
      "174M1A0502\n",
      "174M1A0503\n",
      "174M1A0504\n",
      "174M1A0505\n",
      "174M1A0506\n",
      "174M1A0507\n",
      "174M1A0508\n",
      "174M1A0509\n",
      "174M1A0510\n",
      "174M1A0511\n",
      "174M1A0512\n",
      "174M1A0513\n",
      "174M1A0514\n",
      "174M1A0515\n",
      "174M1A0516\n",
      "174M1A0517\n",
      "174M1A0518\n",
      "174M1A0519\n",
      "174M1A0520\n",
      "174M1A0521\n",
      "174M1A0522\n",
      "174M1A0523\n",
      "174M1A0524\n",
      "174M1A0525\n",
      "174M1A0526\n",
      "174M1A0527\n",
      "174M1A0528\n",
      "174M1A0529\n",
      "174M1A0530\n",
      "174M1A0531\n",
      "174M1A0532\n",
      "174M1A0533\n",
      "174M1A0534\n",
      "174M1A0535\n",
      "174M1A0536\n",
      "174M1A0537\n",
      "174M1A0538\n",
      "174M1A0539\n",
      "174M1A0540\n",
      "174M1A0541\n",
      "174M1A0542\n",
      "174M1A0543\n",
      "174M1A0544\n",
      "174M1A0545\n",
      "174M1A0546\n",
      "174M1A0547\n",
      "174M1A0548\n",
      "174M1A0549\n",
      "174M1A0550\n",
      "174M1A0551\n",
      "174M1A0552\n",
      "174M1A0553\n",
      "174M1A0554\n",
      "174M1A0555\n",
      "174M1A0556\n",
      "174M1A0557\n",
      "174M1A0558\n",
      "174M1A0559\n",
      "174M1A0560\n"
     ]
    }
   ],
   "source": [
    "k=int(input())\n",
    "m=int(input())\n",
    "#i = 501\n",
    "for i in range(k,m+1):\n",
    "    print(\"174M1A0%d\"%i)"
   ]
  },
  {
   "cell_type": "code",
   "execution_count": 1,
   "metadata": {},
   "outputs": [
    {
     "name": "stdout",
     "output_type": "stream",
     "text": [
      "5\n",
      "174M1A050\n",
      "174M1A051\n",
      "174M1A052\n",
      "174M1A053\n",
      "174M1A054\n",
      "174M1A055\n"
     ]
    }
   ],
   "source": [
    "k=int(input())\n",
    "#m=int(input())\n",
    "i = 501\n",
    "for i in range(k+1):\n",
    "    print(\"174M1A05%d\"%i)"
   ]
  },
  {
   "cell_type": "code",
   "execution_count": 7,
   "metadata": {
    "scrolled": false
   },
   "outputs": [
    {
     "name": "stdout",
     "output_type": "stream",
     "text": [
      "10\n",
      "174M1A0500\n",
      "174M1A0501\n",
      "174M1A0502\n",
      "174M1A0503\n",
      "174M1A0504\n",
      "174M1A0505\n",
      "174M1A0506\n",
      "174M1A0507\n",
      "174M1A0508\n",
      "174M1A0509\n",
      "174M1A0510\n"
     ]
    }
   ],
   "source": [
    "n=int(input())\n",
    "for k in range(n+1):\n",
    "    if k<=9:\n",
    "        print(\"174M1A050%d\"%k)\n",
    "    else:\n",
    "        print(\"174M1A05%d\"%k)"
   ]
  },
  {
   "cell_type": "code",
   "execution_count": 27,
   "metadata": {},
   "outputs": [
    {
     "name": "stdout",
     "output_type": "stream",
     "text": [
      "10\n",
      "174M1A05 0\n",
      "174M1A05 1\n",
      "174M1A05 2\n",
      "174M1A05 3\n",
      "174M1A05 4\n",
      "174M1A05 5\n",
      "174M1A05 6\n",
      "174M1A05 7\n",
      "174M1A05 8\n",
      "174M1A05 9\n",
      "174M1A0510\n"
     ]
    }
   ],
   "source": [
    "n=int(input())\n",
    "for k in range(n+1):\n",
    "    print(\"174M1A05%2d\"%k)"
   ]
  },
  {
   "cell_type": "code",
   "execution_count": 24,
   "metadata": {},
   "outputs": [
    {
     "name": "stdout",
     "output_type": "stream",
     "text": [
      "40\n",
      "174M1A0500 184M1A0500\n",
      "174M1A0501 184M1A0501\n",
      "174M1A0502 184M1A0502\n",
      "174M1A0503 184M1A0503\n",
      "174M1A0504 184M1A0504\n",
      "174M1A0505 184M1A0505\n",
      "174M1A0506 184M1A0506\n",
      "174M1A0507 184M1A0507\n",
      "174M1A0508 184M1A0508\n",
      "174M1A0509 184M1A0509\n",
      "174M1A0510 184M1A0510\n",
      "174M1A0511 184M1A0511\n",
      "174M1A0512 184M1A0512\n",
      "174M1A0513 184M1A0513\n",
      "174M1A0514 184M1A0514\n",
      "174M1A0515 184M1A0515\n",
      "174M1A0516 184M1A0516\n",
      "174M1A0517 184M1A0517\n",
      "174M1A0518 184M1A0518\n",
      "174M1A0519 184M1A0519\n",
      "174M1A0520 184M1A0520\n",
      "174M1A0521 184M1A0521\n",
      "174M1A0522 184M1A0522\n",
      "174M1A0523 184M1A0523\n",
      "174M1A0524 184M1A0524\n",
      "174M1A0525 184M1A0525\n",
      "174M1A0526 184M1A0526\n",
      "174M1A0527 184M1A0527\n",
      "174M1A0528 184M1A0528\n",
      "174M1A0529 184M1A0529\n",
      "174M1A0530 184M1A0530\n",
      "174M1A0531 184M1A0531\n",
      "174M1A0532 184M1A0532\n",
      "174M1A0533 184M1A0533\n",
      "174M1A0534 184M1A0534\n",
      "174M1A0535 184M1A0535\n",
      "174M1A0536 184M1A0536\n",
      "174M1A0537 184M1A0537\n",
      "174M1A0538 184M1A0538\n",
      "174M1A0539 184M1A0539\n",
      "174M1A0540 184M1A0540\n"
     ]
    }
   ],
   "source": [
    "n=int(input())\n",
    "for k in range(n+1):\n",
    "    print(\"174M1A05{:02} 184M1A05{:02}\".format(k,k))"
   ]
  },
  {
   "cell_type": "code",
   "execution_count": 49,
   "metadata": {},
   "outputs": [
    {
     "name": "stdout",
     "output_type": "stream",
     "text": [
      "1\n",
      "10\n",
      "Even numbers are:2,4,6,8,10,\n",
      "Odd numbers are:1,3,5,7,9,\n",
      "Sum of even numbers are:25\n",
      "Sum of odd numbers are:30\n",
      "Even digits count:5\n",
      "Odd digits count:5\n"
     ]
    }
   ],
   "source": [
    "i = int(input())\n",
    "j = int(input())\n",
    "codd=0;\n",
    "ceven=0;\n",
    "se=0;\n",
    "so=0;\n",
    "print(\"Even numbers are:\",end=\"\")\n",
    "for k in range(i,j+1):\n",
    "    if(k%2==0):\n",
    "        print(k,end=\",\")\n",
    "        codd+=1\n",
    "        so=so+k;\n",
    "print(\"\\nOdd numbers are:\",end=\"\")\n",
    "for k in range(i,j+1):\n",
    "    if(k%2==1):\n",
    "        print(k,end=',')\n",
    "        ceven+=1\n",
    "        se=se+k\n",
    "print(\"\\nSum of even numbers are:{}\".format(se))\n",
    "print(\"Sum of odd numbers are:{}\".format(so))\n",
    "print(\"Even digits count:{}\".format(ceven))\n",
    "print(\"Odd digits count:{}\".format(codd))"
   ]
  },
  {
   "cell_type": "code",
   "execution_count": 67,
   "metadata": {},
   "outputs": [
    {
     "name": "stdout",
     "output_type": "stream",
     "text": [
      "1\n",
      "10\n",
      "Even numbers are:2,4,6,8,10\n",
      "Odd numbers are:1,3,5,7,9\n",
      "Sum of Even numbers are:30\n",
      "Sum of Odd numbers are:25\n",
      "Even digits count:5\n",
      "Odd digits count:5\n"
     ]
    }
   ],
   "source": [
    "st = int(input())\n",
    "en = int(input())\n",
    "es=os=co=ce=0\n",
    "print(\"Even numbers are:\",end=\"\")\n",
    "for i in range(st,en+1):\n",
    "    if i%2==0:\n",
    "        if en==i:\n",
    "            print(i,end=\"\")\n",
    "        else:\n",
    "            print(i,end=\",\")\n",
    "        es=es+i\n",
    "        ce=ce+1\n",
    "print(\"\\nOdd numbers are:\",end=\"\")\n",
    "for j in range(st,en):\n",
    "    if j%2!=0:\n",
    "        if en-1==j:\n",
    "            print(j,end=\"\")\n",
    "        else:\n",
    "            print(j,end=\",\")\n",
    "        os=os+j\n",
    "        co=co+1\n",
    "print(\"\\nSum of Even numbers are:{}\".format(es))\n",
    "print(\"Sum of Odd numbers are:{}\".format(os))\n",
    "print(\"Even digits count:{}\".format(ce))\n",
    "print(\"Odd digits count:{}\".format(co))"
   ]
  },
  {
   "cell_type": "markdown",
   "metadata": {},
   "source": [
    "# while\n",
    "    Syntax:\n",
    "        initialization\n",
    "        while (condition):\n",
    "            //stats\n",
    "            inc/dec"
   ]
  },
  {
   "cell_type": "code",
   "execution_count": 70,
   "metadata": {},
   "outputs": [
    {
     "name": "stdout",
     "output_type": "stream",
     "text": [
      "1\n",
      "10\n",
      "10 9 8 7 6 5 4 3 2 1 "
     ]
    }
   ],
   "source": [
    "n = int(input())\n",
    "m = int(input())\n",
    "while m>=n:\n",
    "    print(m,end=\" \")\n",
    "    m-=1"
   ]
  },
  {
   "cell_type": "code",
   "execution_count": 1,
   "metadata": {},
   "outputs": [
    {
     "name": "stdout",
     "output_type": "stream",
     "text": [
      "2\n",
      "3\n",
      "6\n",
      "2*3=06\n",
      "2*4=08\n",
      "2*5=10\n",
      "2*6=12\n"
     ]
    }
   ],
   "source": [
    "tnu=int(input())\n",
    "st=int(input())\n",
    "en=int(input())\n",
    "while st<=en:\n",
    "    print(\"{}*{}={:02}\".format(tnu,st,tnu*st))\n",
    "    st=st+1"
   ]
  },
  {
   "cell_type": "code",
   "execution_count": 9,
   "metadata": {},
   "outputs": [
    {
     "name": "stdout",
     "output_type": "stream",
     "text": [
      "1234\n",
      "Given number is:1234\n",
      "Digit count is:4\n"
     ]
    }
   ],
   "source": [
    "m = int(input())\n",
    "t = m\n",
    "c=0\n",
    "print(\"Given number is:{}\".format(m))\n",
    "while m!=0:\n",
    "    m=m//10\n",
    "    c=c+1\n",
    "print(\"Digit count is:{}\".format(c))    "
   ]
  },
  {
   "cell_type": "code",
   "execution_count": null,
   "metadata": {},
   "outputs": [],
   "source": []
  }
 ],
 "metadata": {
  "kernelspec": {
   "display_name": "Python 3",
   "language": "python",
   "name": "python3"
  },
  "language_info": {
   "codemirror_mode": {
    "name": "ipython",
    "version": 3
   },
   "file_extension": ".py",
   "mimetype": "text/x-python",
   "name": "python",
   "nbconvert_exporter": "python",
   "pygments_lexer": "ipython3",
   "version": "3.7.3"
  }
 },
 "nbformat": 4,
 "nbformat_minor": 2
}

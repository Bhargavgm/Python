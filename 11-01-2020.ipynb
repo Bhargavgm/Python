{
 "cells": [
  {
   "cell_type": "code",
   "execution_count": 1,
   "metadata": {},
   "outputs": [
    {
     "name": "stdout",
     "output_type": "stream",
     "text": [
      "23492064\n",
      "46029432\n",
      "Even numbers are: 2 4 2 0 6 4 \n",
      "Odd numbers are:3 9 \n",
      "Sum of even digits are:18\n",
      "Sum of odd digits are:12\n",
      "Even digit count is:6\n",
      "Odd digit count is:2\n"
     ]
    }
   ],
   "source": [
    "n=int(input())\n",
    "r = k = se = so = ce = co = 0\n",
    "while n!=0:\n",
    "    r = r*10+n%10\n",
    "    n = n // 10\n",
    "print(r)\n",
    "odr = r\n",
    "print(\"Even numbers are: \",end=\"\")\n",
    "while r!=0:\n",
    "    m=r%10\n",
    "    if m%2==0:\n",
    "        print(m,end=\" \")\n",
    "        se = se + m\n",
    "        ce = ce + 1\n",
    "    r = r//10\n",
    "print(\"\\nOdd numbers are:\",end=\"\")    \n",
    "while odr!=0:\n",
    "    m=odr%10\n",
    "    if m%2!=0:\n",
    "        print(m,end=\" \")\n",
    "        so = so + m\n",
    "        co = co + 1\n",
    "    odr = odr//10 \n",
    "print(\"\\nSum of even digits are:{}\".format(se))\n",
    "print(\"Sum of odd digits are:{}\".format(so))\n",
    "print(\"Even digit count is:{}\".format(ce))\n",
    "print(\"Odd digit count is:{}\".format(co))"
   ]
  },
  {
   "cell_type": "markdown",
   "metadata": {},
   "source": [
    "# Inner loops\n",
    "    - Loop within a loop"
   ]
  },
  {
   "cell_type": "code",
   "execution_count": 6,
   "metadata": {},
   "outputs": [
    {
     "name": "stdout",
     "output_type": "stream",
     "text": [
      "5\n",
      "*****\n",
      "*****\n",
      "*****\n",
      "*****\n",
      "*****\n"
     ]
    }
   ],
   "source": [
    "n = int(input())\n",
    "for i in range(1,n+1):\n",
    "    for j in range(1,n+1):\n",
    "        print(\"*\",end=\"\")\n",
    "    print(end=\"\\n\")    "
   ]
  },
  {
   "cell_type": "code",
   "execution_count": 20,
   "metadata": {},
   "outputs": [
    {
     "name": "stdout",
     "output_type": "stream",
     "text": [
      "5\n",
      "*   *\n",
      " * * \n",
      "  *  \n",
      " * * \n",
      "*   *\n"
     ]
    }
   ],
   "source": [
    "n = int(input())\n",
    "for i in range(1,n+1):\n",
    "    for j in range(1,n+1):\n",
    "        if i == j or i + j == n+1:\n",
    "            print(\"*\",end=\"\")\n",
    "        else:\n",
    "            print(\" \",end=\"\")\n",
    "    print(end=\"\\n\")    "
   ]
  },
  {
   "cell_type": "code",
   "execution_count": 17,
   "metadata": {},
   "outputs": [
    {
     "name": "stdout",
     "output_type": "stream",
     "text": [
      "10\n",
      "**********\n",
      "*        *\n",
      "*        *\n",
      "*        *\n",
      "*        *\n",
      "*        *\n",
      "*        *\n",
      "*        *\n",
      "*        *\n",
      "**********\n"
     ]
    }
   ],
   "source": [
    "n = int(input())\n",
    "for i in range(1,n+1):\n",
    "    for j in range(1,n+1):\n",
    "        if i==1 or i == n or j == 1 or j == n:\n",
    "            print(\"*\",end=\"\")\n",
    "        else:\n",
    "            print(\" \",end=\"\")\n",
    "    print(end=\"\\n\")    "
   ]
  },
  {
   "cell_type": "code",
   "execution_count": 23,
   "metadata": {},
   "outputs": [
    {
     "name": "stdout",
     "output_type": "stream",
     "text": [
      "9\n",
      "01 02 03 04 05 06 07 08 09 \n",
      "10 11 12 13 14 15 16 17 18 \n",
      "19 20 21 22 23 24 25 26 27 \n",
      "28 29 30 31 32 33 34 35 36 \n",
      "37 38 39 40 41 42 43 44 45 \n",
      "46 47 48 49 50 51 52 53 54 \n",
      "55 56 57 58 59 60 61 62 63 \n",
      "64 65 66 67 68 69 70 71 72 \n",
      "73 74 75 76 77 78 79 80 81 \n"
     ]
    }
   ],
   "source": [
    "n = int(input())\n",
    "k = 0\n",
    "for r in range(1,n+1):\n",
    "    for c in range(1,n+1):\n",
    "        print(\"{:02}\".format(k+1),end =\" \")\n",
    "        k=k+1\n",
    "    print(end=\"\\n\")    "
   ]
  },
  {
   "cell_type": "markdown",
   "metadata": {},
   "source": [
    "# Jump Statements\n",
    "    ->continue -> skip\n",
    "    ->break -> exit of loop\n",
    "    ->pass ->nothing to print\n",
    "    ->return -> single or multiple values by using collections"
   ]
  },
  {
   "cell_type": "code",
   "execution_count": 14,
   "metadata": {},
   "outputs": [
    {
     "name": "stdout",
     "output_type": "stream",
     "text": [
      "10\n",
      "1 2 3 5 6 7 8 9 10 "
     ]
    }
   ],
   "source": [
    "k = int(input())\n",
    "for h in range(1,k+1):\n",
    "    if h == 4:\n",
    "        continue\n",
    "    else:\n",
    "        print(h,end=\" \")"
   ]
  },
  {
   "cell_type": "code",
   "execution_count": 15,
   "metadata": {},
   "outputs": [
    {
     "name": "stdout",
     "output_type": "stream",
     "text": [
      "10\n",
      "1 2 3 "
     ]
    }
   ],
   "source": [
    "k = int(input())\n",
    "for h in range(1,k+1):\n",
    "    if h == 4:\n",
    "        break\n",
    "    else:\n",
    "        print(h,end=\" \")"
   ]
  },
  {
   "cell_type": "code",
   "execution_count": 26,
   "metadata": {},
   "outputs": [
    {
     "name": "stdout",
     "output_type": "stream",
     "text": [
      "01 02 03 04 05 06 07 \n",
      "08 09 10 11 12 13 14 \n",
      "15 16 17 18 19 20 21 \n",
      "22 23 24 25 26 27 28 \n",
      "29 30 31 \n"
     ]
    }
   ],
   "source": [
    "k = 1\n",
    "for i in range(1,6):\n",
    "    for j in range(1,8):\n",
    "        if k >=32:\n",
    "            break\n",
    "        else:\n",
    "            print(\"{:02}\".format(k),end=\" \")\n",
    "        k = k + 1\n",
    "    print(end=\"\\n\")   "
   ]
  },
  {
   "cell_type": "code",
   "execution_count": 31,
   "metadata": {},
   "outputs": [
    {
     "name": "stdout",
     "output_type": "stream",
     "text": [
      "01 **03 **05 **07 \n",
      "**09 **11 **13 **\n",
      "15 **17 **19 **21 \n",
      "**23 **25 **27 **\n",
      "29 **31 \n"
     ]
    }
   ],
   "source": [
    "k = 1\n",
    "for i in range(1,6):\n",
    "    for j in range(1,8):\n",
    "        if k >=32:\n",
    "            break\n",
    "        if k % 2 == 0:\n",
    "            print(\"**\",end=\"\")\n",
    "        else:\n",
    "            print(\"{:02}\".format(k),end=\" \")\n",
    "        k = k + 1\n",
    "    print(end=\"\\n\")   "
   ]
  },
  {
   "cell_type": "code",
   "execution_count": 48,
   "metadata": {},
   "outputs": [
    {
     "name": "stdout",
     "output_type": "stream",
     "text": [
      "01 ** () ** 05 ** 07 \n",
      "** () ** 11 ** 13 ** \n",
      "() ** 17 ** 19 ** () \n",
      "** 23 ** 25 ** () ** \n",
      "29 ** 31 \n"
     ]
    }
   ],
   "source": [
    "k = 1\n",
    "for i in range(1,6):\n",
    "    for j in range(1,8):\n",
    "        if k >=32:\n",
    "            break\n",
    "        if k % 2 == 0:\n",
    "            print(\"**\",end=\" \")\n",
    "        elif k % 3 == 0:\n",
    "            print(\"()\",end=\" \")\n",
    "        else:\n",
    "            print(\"{:02}\".format(k),end=\" \")\n",
    "        k = k + 1\n",
    "    print(end=\"\\n\")   "
   ]
  },
  {
   "cell_type": "code",
   "execution_count": 52,
   "metadata": {},
   "outputs": [
    {
     "name": "stdout",
     "output_type": "stream",
     "text": [
      ":: || () ** :: ** :: \n",
      "** || ** [] ** [] ** \n",
      "() || [] ** [] ** () \n",
      "## ## ## ## ## ## ## \n",
      "[] || [] \n"
     ]
    }
   ],
   "source": [
    "k = 1\n",
    "for r in range(1,6):\n",
    "    for c in range(1,8):\n",
    "        if k >=32:\n",
    "            break\n",
    "        else:\n",
    "            if r == 4:\n",
    "                print(\"##\",end=\" \")\n",
    "            elif c == 2:\n",
    "                print(\"||\",end=\" \")\n",
    "            elif k % 2 == 0:\n",
    "                print(\"**\",end=\" \")\n",
    "            elif k % 3 == 0:\n",
    "                print(\"()\",end=\" \")\n",
    "            elif k <= 10:\n",
    "                print(\"::\",end=\" \")    \n",
    "            else:\n",
    "                print(\"[]\",end=\" \")\n",
    "        k = k + 1\n",
    "    print(end=\"\\n\")   "
   ]
  },
  {
   "cell_type": "markdown",
   "metadata": {},
   "source": [
    "# Functions:\n",
    "    - To perform a specific task\n",
    "    - predefined -> print,sqrt,pow,sin,len"
   ]
  },
  {
   "cell_type": "markdown",
   "metadata": {},
   "source": [
    "# User Defined funcions\n",
    "       -Function with no argument and no Return value\n",
    "       -Function with no argument and with a Return value\n",
    "       -Function with argument and No Return value\n",
    "       -Function with argument and Return value"
   ]
  },
  {
   "cell_type": "code",
   "execution_count": 51,
   "metadata": {},
   "outputs": [
    {
     "name": "stdout",
     "output_type": "stream",
     "text": [
      "32\n",
      "Given number is:32 and its sum is:5\n"
     ]
    }
   ],
   "source": [
    "def sumofdigits(k):\n",
    "    s = 0\n",
    "    while k>0:\n",
    "        r = k%10\n",
    "        s =s+r\n",
    "        k=k//10\n",
    "    return s\n",
    "n = int(input())\n",
    "print(\"Given number is:{} and its sum is:{}\".format(n,sumofdigits(n)))"
   ]
  },
  {
   "cell_type": "markdown",
   "metadata": {},
   "source": [
    "# Functions arguments\n",
    "    - Required argument\n",
    "    - Keyword argument\n",
    "    - Default argument\n",
    "    - Value-length argument"
   ]
  },
  {
   "cell_type": "code",
   "execution_count": 54,
   "metadata": {},
   "outputs": [
    {
     "name": "stdout",
     "output_type": "stream",
     "text": [
      "2\n",
      "3\n",
      "Result=5\n"
     ]
    }
   ],
   "source": [
    "def su(n,m):\n",
    "    return n+m\n",
    "k = int(input())\n",
    "j = int(input())\n",
    "print(\"Result={}\".format(su(k,j)))"
   ]
  },
  {
   "cell_type": "code",
   "execution_count": 6,
   "metadata": {},
   "outputs": [
    {
     "name": "stdout",
     "output_type": "stream",
     "text": [
      "Bhargav\n",
      "20\n",
      "Name is:Bhargav and age is:20\n"
     ]
    }
   ],
   "source": [
    "#keyword argument\n",
    "def namedtls(n,a):\n",
    "    print(\"Name is:{} and age is:{}\".format(n,a))\n",
    "    return \n",
    "nam=input()\n",
    "age=int(input())\n",
    "namedtls(nam,age)"
   ]
  },
  {
   "cell_type": "code",
   "execution_count": 10,
   "metadata": {},
   "outputs": [
    {
     "name": "stdout",
     "output_type": "stream",
     "text": [
      "sar\n",
      "Entered name is:saral and sal is:34500\n"
     ]
    }
   ],
   "source": [
    "#Default arguments\n",
    "def name(p,sal):\n",
    "    print(\"Entered name is:{} and sal is:{}\".format(p,sal))\n",
    "    return\n",
    "n=input()\n",
    "name('saral',sal=34500)"
   ]
  },
  {
   "cell_type": "code",
   "execution_count": 14,
   "metadata": {},
   "outputs": [
    {
     "name": "stdout",
     "output_type": "stream",
     "text": [
      "3 6 7 8 9 12 14 23 2 346 "
     ]
    }
   ],
   "source": [
    "#value length arguments\n",
    "def nop(*g):\n",
    "    for e in range(len(g)):\n",
    "        print(g[e],end=\" \")\n",
    "    return\n",
    "nop(3,6,7,8,9,12,14,23,2,346)"
   ]
  },
  {
   "cell_type": "markdown",
   "metadata": {},
   "source": [
    "# Strings:\n",
    "    -Slicing,indexed based,changes can be done"
   ]
  },
  {
   "cell_type": "code",
   "execution_count": 26,
   "metadata": {},
   "outputs": [
    {
     "name": "stdout",
     "output_type": "stream",
     "text": [
      "Python program <class 'str'>\n",
      "P\n",
      "t\n",
      "Pytho\n",
      "n p\n",
      "Pytho\n",
      "hon program\n",
      "m\n"
     ]
    }
   ],
   "source": [
    "s = 'Python program'\n",
    "print(s,type(s))\n",
    "print(s[0])\n",
    "print(s[2])\n",
    "print(s[0:5])\n",
    "print(s[5:8])\n",
    "print(s[:5])\n",
    "print(s[3:])\n",
    "print(s[-1])"
   ]
  },
  {
   "cell_type": "code",
   "execution_count": 44,
   "metadata": {},
   "outputs": [
    {
     "name": "stdout",
     "output_type": "stream",
     "text": [
      "to r\n",
      "oPnh\n",
      "g\n",
      "rg\n",
      "orP noh\n",
      "oPnhy\n",
      "h oa\n",
      "margorP nohtyP\n",
      "ython Progra\n"
     ]
    }
   ],
   "source": [
    "s=\"Python Program\"\n",
    "print(s[2:9:2])\n",
    "print(s[9:2:-2])\n",
    "print(s[-4])\n",
    "print(s[-3:-5:-1])\n",
    "print(s[-5:2:-1])\n",
    "print(s[-5::-2])\n",
    "print(s[3::3])\n",
    "print(s[-1::-1])#reverse \n",
    "print(s[1:-1:1])#first and last characters are removed in 'python program hence output is ython Progra'"
   ]
  },
  {
   "cell_type": "code",
   "execution_count": 47,
   "metadata": {},
   "outputs": [
    {
     "name": "stdout",
     "output_type": "stream",
     "text": [
      "14\n",
      "Python \n",
      "margor\n"
     ]
    }
   ],
   "source": [
    "s=\"Python Program\"\n",
    "print(len(s))\n",
    "print(s[:len(s)//2])\n",
    "print(s[:len(s)//2:-1])"
   ]
  },
  {
   "cell_type": "code",
   "execution_count": 48,
   "metadata": {},
   "outputs": [
    {
     "name": "stdout",
     "output_type": "stream",
     "text": [
      "['__add__', '__class__', '__contains__', '__delattr__', '__dir__', '__doc__', '__eq__', '__format__', '__ge__', '__getattribute__', '__getitem__', '__getnewargs__', '__gt__', '__hash__', '__init__', '__init_subclass__', '__iter__', '__le__', '__len__', '__lt__', '__mod__', '__mul__', '__ne__', '__new__', '__reduce__', '__reduce_ex__', '__repr__', '__rmod__', '__rmul__', '__setattr__', '__sizeof__', '__str__', '__subclasshook__', 'capitalize', 'casefold', 'center', 'count', 'encode', 'endswith', 'expandtabs', 'find', 'format', 'format_map', 'index', 'isalnum', 'isalpha', 'isascii', 'isdecimal', 'isdigit', 'isidentifier', 'islower', 'isnumeric', 'isprintable', 'isspace', 'istitle', 'isupper', 'join', 'ljust', 'lower', 'lstrip', 'maketrans', 'partition', 'replace', 'rfind', 'rindex', 'rjust', 'rpartition', 'rsplit', 'rstrip', 'split', 'splitlines', 'startswith', 'strip', 'swapcase', 'title', 'translate', 'upper', 'zfill']\n"
     ]
    }
   ],
   "source": [
    "print(dir(str))"
   ]
  },
  {
   "cell_type": "code",
   "execution_count": 70,
   "metadata": {},
   "outputs": [
    {
     "name": "stdout",
     "output_type": "stream",
     "text": [
      "Python program\n",
      "Python Program\n",
      "python program\n",
      "PYTHON PROGRAM\n",
      "1\n",
      "PyTHON pRoGrAm\n",
      "                                                   pYthon PrOgRaM                                                   \n"
     ]
    }
   ],
   "source": [
    "ss = \"pYthon PrOgRaM\"\n",
    "print(ss.capitalize())\n",
    "print(ss.title())\n",
    "print(ss.casefold())\n",
    "print(ss.upper())\n",
    "print(ss.count('o'))\n",
    "print(ss.swapcase())\n",
    "print(ss.center(116))"
   ]
  },
  {
   "cell_type": "code",
   "execution_count": 74,
   "metadata": {},
   "outputs": [
    {
     "name": "stdout",
     "output_type": "stream",
     "text": [
      "False\n",
      "True\n",
      "7\n",
      "6\n"
     ]
    }
   ],
   "source": [
    "print(ss.startswith('m'))\n",
    "print(ss.endswith('M'))\n",
    "print(ss.find('P'))\n",
    "print(ss.index(' '))"
   ]
  },
  {
   "cell_type": "code",
   "execution_count": 77,
   "metadata": {},
   "outputs": [
    {
     "name": "stdout",
     "output_type": "stream",
     "text": [
      "0\n",
      "0\n"
     ]
    }
   ],
   "source": [
    "s=\"python program\"\n",
    "'''The below two methods are given the result as string because if we found the same characters are more than one time \n",
    "it will shows the first preference.so here the p is at 0th index.so,it will prints the zero at two methods'''\n",
    "print(ss.find(\"p\"))\n",
    "print(ss.index(\"p\"))"
   ]
  },
  {
   "cell_type": "code",
   "execution_count": 78,
   "metadata": {},
   "outputs": [
    {
     "name": "stdout",
     "output_type": "stream",
     "text": [
      "True\n",
      "True\n",
      "True\n",
      "True\n",
      "True\n"
     ]
    }
   ],
   "source": [
    "s='wei234'\n",
    "print(s.isalnum())\n",
    "e='dsbbscjssdl'\n",
    "print(e.isalpha())\n",
    "t='1'\n",
    "print(t.isascii())\n",
    "h='404929470924'\n",
    "print(h.isdecimal())\n",
    "l='397472'\n",
    "print(l.isdigit())"
   ]
  },
  {
   "cell_type": "code",
   "execution_count": 80,
   "metadata": {},
   "outputs": [
    {
     "name": "stdout",
     "output_type": "stream",
     "text": [
      "True\n"
     ]
    }
   ],
   "source": [
    "g='is'\n",
    "print(g.isidentifier())"
   ]
  },
  {
   "cell_type": "code",
   "execution_count": 85,
   "metadata": {},
   "outputs": [
    {
     "name": "stdout",
     "output_type": "stream",
     "text": [
      "True\n",
      "False\n",
      "False\n",
      "True\n",
      "True\n"
     ]
    }
   ],
   "source": [
    "k='hfklsksdpfshklsio'\n",
    "print(k.islower())\n",
    "e='rgpohhgporhepohE'\n",
    "print(e.islower())\n",
    "dd = '946246264246$'\n",
    "print(dd.isnumeric())\n",
    "sp=\" \"\n",
    "print(sp.isspace())\n",
    "st=\"Python Workshop\"\n",
    "print(st.istitle())"
   ]
  },
  {
   "cell_type": "code",
   "execution_count": 10,
   "metadata": {},
   "outputs": [
    {
     "name": "stdout",
     "output_type": "stream",
     "text": [
      "w@o@r@k@s@h@o@p\n",
      "w,o,r,k,s,h,o,p\n",
      "python\n",
      "python workshop\n",
      "          apssdc\n",
      "vemu           \n"
     ]
    }
   ],
   "source": [
    "d=\"python\"\n",
    "g=\"workshop\"\n",
    "h=\"          apssdc\"\n",
    "l=\"vemu           \"\n",
    "print(\"@\".join(g))\n",
    "print(\",\".join(g))\n",
    "print(d)\n",
    "print(d+\" \"+g)\n",
    "print(h.ljust(10))\n",
    "print(l.ljust(10))"
   ]
  },
  {
   "cell_type": "code",
   "execution_count": 4,
   "metadata": {},
   "outputs": [
    {
     "name": "stdout",
     "output_type": "stream",
     "text": [
      "python workshop\n"
     ]
    }
   ],
   "source": [
    "d=\"python\"\n",
    "g=\" workshop\"\n",
    "print(d+g)"
   ]
  },
  {
   "cell_type": "code",
   "execution_count": 14,
   "metadata": {},
   "outputs": [
    {
     "name": "stdout",
     "output_type": "stream",
     "text": [
      "vemu\n",
      "ramesh\n",
      "ramesh\n",
      "vemu\n"
     ]
    }
   ],
   "source": [
    "d=\"vemu      \"\n",
    "ll=\"     ramesh\"\n",
    "print(d.strip())\n",
    "print(ll.lstrip())\n",
    "print(ll.lstrip())\n",
    "print(d.rstrip())"
   ]
  },
  {
   "cell_type": "code",
   "execution_count": 12,
   "metadata": {},
   "outputs": [
    {
     "name": "stdout",
     "output_type": "stream",
     "text": [
      "['fsafgabfiowg', 'iowifguowhriowh', 'hfiioafhafhafi', 'sfhafihiasfhioasoh', 'usfhusfui']\n",
      "['fs', 'fg', 'bfiowg iowifguowhriowh hfiio', 'fh', 'fh', 'fi sfh', 'fihi', 'sfhio', 'soh usfhusfui']\n"
     ]
    }
   ],
   "source": [
    "k=\"fsafgabfiowg iowifguowhriowh hfiioafhafhafi sfhafihiasfhioasoh usfhusfui\"\n",
    "print(k.split())\n",
    "print(k.split('a'))"
   ]
  },
  {
   "cell_type": "code",
   "execution_count": 23,
   "metadata": {},
   "outputs": [
    {
     "name": "stdout",
     "output_type": "stream",
     "text": [
      "12\n",
      "0\n",
      "0\n",
      "0\n"
     ]
    }
   ],
   "source": [
    "k=\"1273kjaAR!#%\"\n",
    "cp=lp=dg=sp=0\n",
    "for i in k:\n",
    "    if i.isalpha:\n",
    "        if i.isupper:\n",
    "            #print(i,end=\" \")\n",
    "            cp=cp+1\n",
    "        else:\n",
    "            #print(i,end=\" \")\n",
    "            lp=lp+1\n",
    "    elif i.isdigit:\n",
    "        dg+=1\n",
    "    else:\n",
    "        sp+=1\n",
    "print(\"Alphabets are\"cp)\n",
    "print(lp)\n",
    "print(dg)\n",
    "print(sp)"
   ]
  },
  {
   "cell_type": "code",
   "execution_count": 29,
   "metadata": {},
   "outputs": [
    {
     "name": "stdout",
     "output_type": "stream",
     "text": [
      "97\n"
     ]
    }
   ],
   "source": [
    "i='a'\n",
    "print(ord(i))"
   ]
  },
  {
   "cell_type": "code",
   "execution_count": 31,
   "metadata": {},
   "outputs": [
    {
     "name": "stdout",
     "output_type": "stream",
     "text": [
      "1273kjaAR!#%\n",
      "Alphabets capital case are:2\n",
      "Alphabets lower case are:3\n",
      "Digits are:4\n",
      "Special characters are:3\n"
     ]
    }
   ],
   "source": [
    "st = input()\n",
    "cp = lp = dg = sp = 0\n",
    "for i in st:\n",
    "    if i.isalpha():\n",
    "        if i.isupper():\n",
    "            cp+=1\n",
    "        else:\n",
    "            lp+=1\n",
    "    elif i.isdigit():\n",
    "        dg+=1\n",
    "    else:\n",
    "        sp+=1\n",
    "print(\"Alphabets capital case are:{}\".format(cp))\n",
    "print(\"Alphabets lower case are:{}\".format(lp))\n",
    "print(\"Digits are:{}\".format(dg))\n",
    "print(\"Special characters are:{}\".format(sp))"
   ]
  },
  {
   "cell_type": "markdown",
   "metadata": {},
   "source": [
    "# Data Structures in Python:\n",
    "```\n",
    " Collections,iterators\n",
    "    - List -> Changes can be done,[],heterogeneous data,slicing can be done,Ordered data list(),\n",
    "              Indexing is done,heterogeneous data,slicing can be done,ordered data\n",
    "    - Tuple ->Changes can't be done,(),tuple(),Indexing is done,heterogeneous data,slicing can be done, ordered data\n",
    "    - Set -> changes can be done,{},set(),duplicate elements are removed,Indexing is not there,heterogeneous data.\n",
    "             slicing can't be done, Unordered data \n",
    "    - Dictionary -> Changes can be done, key and value pairs can exists,{'k':34}.Indexing is there duplicate elements \n",
    "                    are removed by keys,ordered data\n",
    "    ```"
   ]
  },
  {
   "cell_type": "code",
   "execution_count": 33,
   "metadata": {},
   "outputs": [
    {
     "name": "stdout",
     "output_type": "stream",
     "text": [
      "[23, 'sfas', 3.4729284, False]\n",
      "<class 'list'>\n",
      "3.4729284\n"
     ]
    }
   ],
   "source": [
    "k = [23,'sfas',3.4729284,False]\n",
    "print(k)\n",
    "print(type(k))\n",
    "print(k[2])"
   ]
  },
  {
   "cell_type": "code",
   "execution_count": 34,
   "metadata": {},
   "outputs": [
    {
     "name": "stdout",
     "output_type": "stream",
     "text": [
      "['__add__', '__class__', '__contains__', '__delattr__', '__delitem__', '__dir__', '__doc__', '__eq__', '__format__', '__ge__', '__getattribute__', '__getitem__', '__gt__', '__hash__', '__iadd__', '__imul__', '__init__', '__init_subclass__', '__iter__', '__le__', '__len__', '__lt__', '__mul__', '__ne__', '__new__', '__reduce__', '__reduce_ex__', '__repr__', '__reversed__', '__rmul__', '__setattr__', '__setitem__', '__sizeof__', '__str__', '__subclasshook__', 'append', 'clear', 'copy', 'count', 'extend', 'index', 'insert', 'pop', 'remove', 'reverse', 'sort']\n"
     ]
    }
   ],
   "source": [
    "print(dir(list))"
   ]
  },
  {
   "cell_type": "code",
   "execution_count": 39,
   "metadata": {},
   "outputs": [
    {
     "name": "stdout",
     "output_type": "stream",
     "text": [
      "[1, 4, 6, 3, 2, 1, 4, 6, 3, 2]\n",
      "[1, 4, 6, 3, 2]\n",
      "[5, 8, 1, 9, 0]\n",
      "[1, 4, 6, 3, 2, 34]\n"
     ]
    }
   ],
   "source": [
    "lis = [1,4,6,3,2]\n",
    "lis1 = [5,8,1,9,0]\n",
    "print(lis+lis)\n",
    "print(lis)\n",
    "print(lis1)\n",
    "lis.append(34)#append will allow only one argument if we will take two arguments then it will generates an error\n",
    "print(lis)"
   ]
  },
  {
   "cell_type": "code",
   "execution_count": 40,
   "metadata": {},
   "outputs": [
    {
     "name": "stdout",
     "output_type": "stream",
     "text": [
      "[1, 4, 6, 3, 2, 34]\n"
     ]
    }
   ],
   "source": [
    "h = lis.copy()\n",
    "print(h)"
   ]
  },
  {
   "cell_type": "code",
   "execution_count": 43,
   "metadata": {},
   "outputs": [
    {
     "name": "stdout",
     "output_type": "stream",
     "text": [
      "2\n",
      "[1, 4, 6, 3, 2, 34, 34, 56, 67, 2, 3, 59]\n",
      "[1, 4, 6, 3, 2, 34, 34, 56, 67, 2, 3, 59, 34, 56, 67, 2, 3, 59]\n"
     ]
    }
   ],
   "source": [
    "print(lis.count(2))\n",
    "print(lis)\n",
    "lis.extend([34,56,67,2,3,59])\n",
    "print(lis)"
   ]
  },
  {
   "cell_type": "code",
   "execution_count": 49,
   "metadata": {},
   "outputs": [
    {
     "name": "stdout",
     "output_type": "stream",
     "text": [
      "[5, 100, 100, 100, 8, 1, 9, 0]\n",
      "7\n",
      "[5, 100, 100, 100, 100, 8, 1, 9, 0]\n",
      "[5, 100, 100, 100, 100, 8, 10, 1, 9, 0]\n"
     ]
    }
   ],
   "source": [
    "print(lis1)\n",
    "print(lis1.index(0))\n",
    "lis1.insert(1,100)\n",
    "print(lis1)\n",
    "lis1.insert(6,10)\n",
    "print(lis1)"
   ]
  },
  {
   "cell_type": "code",
   "execution_count": 59,
   "metadata": {},
   "outputs": [
    {
     "name": "stdout",
     "output_type": "stream",
     "text": [
      "[100, 100, 100, 10, 9, 8]\n",
      "[100, 100, 10, 9, 8]\n"
     ]
    }
   ],
   "source": [
    "print(lis1)\n",
    "lis1.remove(100)\n",
    "print(lis1)"
   ]
  },
  {
   "cell_type": "code",
   "execution_count": 53,
   "metadata": {},
   "outputs": [
    {
     "name": "stdout",
     "output_type": "stream",
     "text": [
      "[5, 100, 100, 100, 8, 10, 9]\n",
      "[100, 100, 100, 8, 10, 9]\n"
     ]
    }
   ],
   "source": [
    "print(lis1)\n",
    "lis1.pop(0)\n",
    "print(lis1)"
   ]
  },
  {
   "cell_type": "code",
   "execution_count": 54,
   "metadata": {},
   "outputs": [
    {
     "name": "stdout",
     "output_type": "stream",
     "text": [
      "[100, 100, 100, 8, 10, 9]\n",
      "[9, 10, 8, 100, 100, 100]\n"
     ]
    }
   ],
   "source": [
    "print(lis1)\n",
    "lis1.reverse()\n",
    "print(lis1)"
   ]
  },
  {
   "cell_type": "code",
   "execution_count": 56,
   "metadata": {},
   "outputs": [
    {
     "name": "stdout",
     "output_type": "stream",
     "text": [
      "[8, 9, 10, 100, 100, 100]\n",
      "[8, 9, 10, 100, 100, 100]\n",
      "[100, 100, 100, 10, 9, 8]\n"
     ]
    }
   ],
   "source": [
    "print(lis1)\n",
    "lis1.sort()\n",
    "print(lis1)\n",
    "lis1.sort(reverse=True)\n",
    "print(lis1)"
   ]
  },
  {
   "cell_type": "code",
   "execution_count": 60,
   "metadata": {},
   "outputs": [
    {
     "name": "stdout",
     "output_type": "stream",
     "text": [
      "[100, 100, 10, 9, 8]\n",
      "[]\n"
     ]
    }
   ],
   "source": [
    "print(lis1)\n",
    "lis1.clear()\n",
    "print(lis1)"
   ]
  },
  {
   "cell_type": "code",
   "execution_count": 63,
   "metadata": {},
   "outputs": [
    {
     "name": "stdout",
     "output_type": "stream",
     "text": [
      "[34, 6498249862, 234248, 4749]\n"
     ]
    },
    {
     "ename": "NameError",
     "evalue": "name 'lis1' is not defined",
     "output_type": "error",
     "traceback": [
      "\u001b[1;31m---------------------------------------------------------------------------\u001b[0m",
      "\u001b[1;31mNameError\u001b[0m                                 Traceback (most recent call last)",
      "\u001b[1;32m<ipython-input-63-16aaa3321117>\u001b[0m in \u001b[0;36m<module>\u001b[1;34m\u001b[0m\n\u001b[0;32m      2\u001b[0m \u001b[0mprint\u001b[0m\u001b[1;33m(\u001b[0m\u001b[0mlis1\u001b[0m\u001b[1;33m)\u001b[0m\u001b[1;33m\u001b[0m\u001b[1;33m\u001b[0m\u001b[0m\n\u001b[0;32m      3\u001b[0m \u001b[1;32mdel\u001b[0m\u001b[1;33m(\u001b[0m\u001b[0mlis1\u001b[0m\u001b[1;33m)\u001b[0m\u001b[1;33m\u001b[0m\u001b[1;33m\u001b[0m\u001b[0m\n\u001b[1;32m----> 4\u001b[1;33m \u001b[0mprint\u001b[0m\u001b[1;33m(\u001b[0m\u001b[0mlis1\u001b[0m\u001b[1;33m)\u001b[0m\u001b[1;33m\u001b[0m\u001b[1;33m\u001b[0m\u001b[0m\n\u001b[0m",
      "\u001b[1;31mNameError\u001b[0m: name 'lis1' is not defined"
     ]
    }
   ],
   "source": [
    "lis1=[34,6498249862,234248,4749]\n",
    "print(lis1)\n",
    "del(lis1)\n",
    "print(lis1)"
   ]
  },
  {
   "cell_type": "code",
   "execution_count": 68,
   "metadata": {},
   "outputs": [
    {
     "name": "stdout",
     "output_type": "stream",
     "text": [
      "jkfihfhi jfjiohfpohf hifhffioha ffjisfhios hfhioshfi hfiofisioa isfoshf\n",
      "['jkfihfhi', 'jfjiohfpohf', 'hifhffioha', 'ffjisfhios', 'hfhioshfi', 'hfiofisioa', 'isfoshf']\n"
     ]
    }
   ],
   "source": [
    "k = input().split()\n",
    "print(k)"
   ]
  },
  {
   "cell_type": "code",
   "execution_count": 2,
   "metadata": {},
   "outputs": [
    {
     "name": "stdout",
     "output_type": "stream",
     "text": [
      "2 3 4 6 7 8 7 4 6 8  3 5 7 7 98 4 3 6 7\n",
      "['2', '3', '4', '6', '7', '8', '7', '4', '6', '8', '3', '5', '7', '7', '98', '4', '3', '6', '7']\n",
      "['2', '3', '4', '6', '7', '8', '7', '4', '6', '8', '3', '5', '7', '7', '98', '4', '3', '6', '7']\n"
     ]
    }
   ],
   "source": [
    "k = input().split()\n",
    "print(k)\n",
    "m =[]\n",
    "for i in k:\n",
    "    m.append(i)\n",
    "print(m)    "
   ]
  },
  {
   "cell_type": "code",
   "execution_count": 15,
   "metadata": {},
   "outputs": [
    {
     "name": "stdout",
     "output_type": "stream",
     "text": [
      "3 4 5 7 4 4 67 7 6 4 3 5 6 7 754 3 5 6 6 7 78  6  4 4 6 7 \n",
      "[4, 4, 4, 6, 4, 6, 754, 6, 6, 78, 6, 4, 4, 6]\n",
      "[3, 5, 7, 67, 7, 3, 5, 7, 3, 5, 7, 7]\n",
      "892\n",
      "126\n",
      "14\n",
      "12\n"
     ]
    }
   ],
   "source": [
    "n = input().split()\n",
    "el,ol=[],[]\n",
    "for i in n:\n",
    "    if int(i)%2==0:\n",
    "        el.append(int(i))\n",
    "    else:\n",
    "        ol.append(int(i))\n",
    "print(el)\n",
    "print(ol)\n",
    "print(sum(el))\n",
    "print(sum(ol))\n",
    "print(len(el))\n",
    "print(len(ol))"
   ]
  },
  {
   "cell_type": "code",
   "execution_count": 16,
   "metadata": {},
   "outputs": [
    {
     "name": "stdout",
     "output_type": "stream",
     "text": [
      "(34, 'ram', 34.444, True)\n"
     ]
    }
   ],
   "source": [
    "p = (34,'ram',34.444,True)\n",
    "print(p)"
   ]
  },
  {
   "cell_type": "code",
   "execution_count": 17,
   "metadata": {},
   "outputs": [
    {
     "name": "stdout",
     "output_type": "stream",
     "text": [
      "(34, 'ram', 34.444, True)\n",
      "1\n",
      "0\n"
     ]
    }
   ],
   "source": [
    "print(p)\n",
    "print(p.index('ram'))\n",
    "print(p.count(2))"
   ]
  },
  {
   "cell_type": "code",
   "execution_count": 5,
   "metadata": {},
   "outputs": [
    {
     "name": "stdout",
     "output_type": "stream",
     "text": [
      "2 74 8 5 8 5 8  3 3  6 1 2 3 67\n",
      "(2, 74, 8, 5, 8, 5, 8, 3, 3, 6, 1, 2, 3, 67)\n",
      "(1, 2, 2, 3, 3, 3, 5, 5, 6, 8, 8, 8, 67, 74)\n"
     ]
    }
   ],
   "source": [
    "k = input().split()\n",
    "m = []\n",
    "for i in k:\n",
    "    m.append(int(i))\n",
    "l=tuple(m)\n",
    "print(l)\n",
    "f = list(l)\n",
    "f.sort()\n",
    "g = tuple(f)\n",
    "print(g)"
   ]
  },
  {
   "cell_type": "markdown",
   "metadata": {},
   "source": [
    "# set"
   ]
  },
  {
   "cell_type": "code",
   "execution_count": 7,
   "metadata": {},
   "outputs": [
    {
     "name": "stdout",
     "output_type": "stream",
     "text": [
      "{1, 2, 3, 'aa', 'rajesh', 'ascii', 23}\n",
      "<class 'set'>\n"
     ]
    },
    {
     "data": {
      "text/plain": [
       "{1, 2, 23, 3, 'aa', 'ascii', 'rajesh'}"
      ]
     },
     "execution_count": 7,
     "metadata": {},
     "output_type": "execute_result"
    }
   ],
   "source": [
    "s = {23,2,1,2,3,1.00,'ascii','aa','rajesh'}\n",
    "print(s)\n",
    "print(type(s))\n",
    "s"
   ]
  },
  {
   "cell_type": "code",
   "execution_count": 8,
   "metadata": {},
   "outputs": [
    {
     "name": "stdout",
     "output_type": "stream",
     "text": [
      "{1, 2, 3, 4, 5, 6}\n"
     ]
    }
   ],
   "source": [
    "s = {1,1,1,1,2,2,2,2,2,3,3,3,4,4,5,5,6,6,6,}\n",
    "print(s)"
   ]
  },
  {
   "cell_type": "code",
   "execution_count": 9,
   "metadata": {},
   "outputs": [
    {
     "name": "stdout",
     "output_type": "stream",
     "text": [
      "['__and__', '__class__', '__contains__', '__delattr__', '__dir__', '__doc__', '__eq__', '__format__', '__ge__', '__getattribute__', '__gt__', '__hash__', '__iand__', '__init__', '__init_subclass__', '__ior__', '__isub__', '__iter__', '__ixor__', '__le__', '__len__', '__lt__', '__ne__', '__new__', '__or__', '__rand__', '__reduce__', '__reduce_ex__', '__repr__', '__ror__', '__rsub__', '__rxor__', '__setattr__', '__sizeof__', '__str__', '__sub__', '__subclasshook__', '__xor__', 'add', 'clear', 'copy', 'difference', 'difference_update', 'discard', 'intersection', 'intersection_update', 'isdisjoint', 'issubset', 'issuperset', 'pop', 'remove', 'symmetric_difference', 'symmetric_difference_update', 'union', 'update']\n"
     ]
    }
   ],
   "source": [
    "print(dir(set))"
   ]
  },
  {
   "cell_type": "code",
   "execution_count": null,
   "metadata": {},
   "outputs": [],
   "source": []
  }
 ],
 "metadata": {
  "kernelspec": {
   "display_name": "Python 3",
   "language": "python",
   "name": "python3"
  },
  "language_info": {
   "codemirror_mode": {
    "name": "ipython",
    "version": 3
   },
   "file_extension": ".py",
   "mimetype": "text/x-python",
   "name": "python",
   "nbconvert_exporter": "python",
   "pygments_lexer": "ipython3",
   "version": "3.7.3"
  }
 },
 "nbformat": 4,
 "nbformat_minor": 2
}

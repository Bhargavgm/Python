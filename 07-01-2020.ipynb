{
 "cells": [
  {
   "cell_type": "code",
   "execution_count": null,
   "metadata": {},
   "outputs": [],
   "source": []
  },
  {
   "cell_type": "code",
   "execution_count": null,
   "metadata": {},
   "outputs": [],
   "source": []
  },
  {
   "cell_type": "markdown",
   "metadata": {},
   "source": [
    "# python basic"
   ]
  },
  {
   "cell_type": "markdown",
   "metadata": {},
   "source": [
    "# The largest heading"
   ]
  },
  {
   "cell_type": "markdown",
   "metadata": {},
   "source": [
    "## The second largest heading"
   ]
  },
  {
   "cell_type": "markdown",
   "metadata": {},
   "source": [
    "### The third largest heading"
   ]
  },
  {
   "cell_type": "markdown",
   "metadata": {},
   "source": [
    "**This is bold text** "
   ]
  },
  {
   "cell_type": "markdown",
   "metadata": {},
   "source": [
    "*This is italized text*"
   ]
  },
  {
   "cell_type": "markdown",
   "metadata": {},
   "source": [
    "~~This is mistaken text~~"
   ]
  },
  {
   "cell_type": "markdown",
   "metadata": {},
   "source": [
    "**This is text _extremely_ important**"
   ]
  },
  {
   "cell_type": "markdown",
   "metadata": {},
   "source": [
    "***All bold and italic**"
   ]
  },
  {
   "cell_type": "markdown",
   "metadata": {},
   "source": [
    ">pardon my french"
   ]
  },
  {
   "cell_type": "markdown",
   "metadata": {},
   "source": [
    "```\n",
    "git status \n",
    "git add\n",
    "git commit\n",
    "```"
   ]
  },
  {
   "cell_type": "markdown",
   "metadata": {},
   "source": [
    "This site was build using [Github pages](https://pages.github.com)"
   ]
  },
  {
   "cell_type": "markdown",
   "metadata": {},
   "source": [
    "- George washington\n",
    "- John Adams\n",
    "- Thomas jefferson"
   ]
  },
  {
   "cell_type": "markdown",
   "metadata": {},
   "source": [
    "1. First list item\n",
    "   - First nested list item\n",
    "     - Second nested list item"
   ]
  },
  {
   "cell_type": "markdown",
   "metadata": {},
   "source": [
    "# Variables\n",
    "    -It stores the values and changes the value"
   ]
  },
  {
   "cell_type": "code",
   "execution_count": 1,
   "metadata": {},
   "outputs": [
    {
     "name": "stdout",
     "output_type": "stream",
     "text": [
      "20\n"
     ]
    }
   ],
   "source": [
    "a = 20\n",
    "print(a)"
   ]
  },
  {
   "cell_type": "code",
   "execution_count": 20,
   "metadata": {},
   "outputs": [
    {
     "name": "stdout",
     "output_type": "stream",
     "text": [
      "Enter a value:5\n",
      "Factorial of 5 is 120\n"
     ]
    }
   ],
   "source": [
    "#factorial of number using python\n",
    "f=1\n",
    "n=int(input('Enter a value:'))\n",
    "for i in range(1,n+1):\n",
    "    f=f*i\n",
    "print('Factorial of {} is {}'.format(n,f))    "
   ]
  },
  {
   "cell_type": "code",
   "execution_count": 4,
   "metadata": {},
   "outputs": [
    {
     "data": {
      "text/plain": [
       "100"
      ]
     },
     "execution_count": 4,
     "metadata": {},
     "output_type": "execute_result"
    }
   ],
   "source": [
    "a = 100\n",
    "a"
   ]
  },
  {
   "cell_type": "code",
   "execution_count": 5,
   "metadata": {},
   "outputs": [
    {
     "name": "stdout",
     "output_type": "stream",
     "text": [
      "100\n"
     ]
    }
   ],
   "source": [
    "print(a)"
   ]
  },
  {
   "cell_type": "markdown",
   "metadata": {},
   "source": [
    "### Datatypes in python\n",
    "    -Int -> Numeric format of data -int()\n",
    "    -float -> Decimal values are allowed -float()\n",
    "    -String -> '' or \"\"-str()\n",
    "    -complex -> Real and imaginary -complex()"
   ]
  },
  {
   "cell_type": "code",
   "execution_count": 7,
   "metadata": {},
   "outputs": [
    {
     "name": "stdout",
     "output_type": "stream",
     "text": [
      "100 30\n"
     ]
    }
   ],
   "source": [
    "a,b=100,30\n",
    "print(a,b)"
   ]
  },
  {
   "cell_type": "code",
   "execution_count": 8,
   "metadata": {},
   "outputs": [
    {
     "name": "stdout",
     "output_type": "stream",
     "text": [
      "100\n",
      "30\n"
     ]
    }
   ],
   "source": [
    "print(a)\n",
    "print(b)"
   ]
  },
  {
   "cell_type": "code",
   "execution_count": 10,
   "metadata": {},
   "outputs": [
    {
     "name": "stdout",
     "output_type": "stream",
     "text": [
      "Hello\n",
      "None\n"
     ]
    }
   ],
   "source": [
    "print(print(\"Hello\"))"
   ]
  },
  {
   "cell_type": "markdown",
   "metadata": {},
   "source": [
    "### Type casting Type()"
   ]
  },
  {
   "cell_type": "code",
   "execution_count": 11,
   "metadata": {},
   "outputs": [
    {
     "data": {
      "text/plain": [
       "int"
      ]
     },
     "execution_count": 11,
     "metadata": {},
     "output_type": "execute_result"
    }
   ],
   "source": [
    "type(a)"
   ]
  },
  {
   "cell_type": "code",
   "execution_count": 15,
   "metadata": {},
   "outputs": [
    {
     "name": "stdout",
     "output_type": "stream",
     "text": [
      "<class 'int'> <class 'int'>\n"
     ]
    }
   ],
   "source": [
    "type(a)\n",
    "print(type(a),type(b))"
   ]
  },
  {
   "cell_type": "code",
   "execution_count": 17,
   "metadata": {},
   "outputs": [
    {
     "name": "stdout",
     "output_type": "stream",
     "text": [
      "<class 'str'> <class 'float'>\n"
     ]
    }
   ],
   "source": [
    "c = 'rajesh'\n",
    "d = 26.00\n",
    "print(type(c),type(d))"
   ]
  },
  {
   "cell_type": "code",
   "execution_count": 19,
   "metadata": {},
   "outputs": [
    {
     "name": "stdout",
     "output_type": "stream",
     "text": [
      "rajesh <class 'str'>\n",
      "25.0 <class 'float'>\n",
      "True <class 'bool'>\n",
      "120 <class 'int'>\n",
      "235.15645 <class 'str'>\n",
      "545 <class 'str'>\n"
     ]
    }
   ],
   "source": [
    "c = 'rajesh'\n",
    "d = 25.00\n",
    "e = True\n",
    "g = '235.15645'\n",
    "h = '545'\n",
    "print(c,type(c))\n",
    "print(d,type(d))\n",
    "print(e,type(e))\n",
    "print(f,type(f))\n",
    "print(g,type(g))\n",
    "print(h,type(h))"
   ]
  },
  {
   "cell_type": "markdown",
   "metadata": {},
   "source": [
    "### Variable assignments:"
   ]
  },
  {
   "cell_type": "code",
   "execution_count": 21,
   "metadata": {},
   "outputs": [
    {
     "name": "stdout",
     "output_type": "stream",
     "text": [
      "23 <class 'int'>\n",
      "23.0 <class 'float'>\n",
      "raju <class 'str'>\n",
      "False <class 'bool'>\n"
     ]
    }
   ],
   "source": [
    "a,h,l,y = 23,23.000,'raju',False\n",
    "print(a,type(a))\n",
    "print(h,type(h))\n",
    "print(l,type(l))\n",
    "print(y,type(y))"
   ]
  },
  {
   "cell_type": "code",
   "execution_count": 26,
   "metadata": {},
   "outputs": [
    {
     "name": "stdout",
     "output_type": "stream",
     "text": [
      "520 520 520\n"
     ]
    }
   ],
   "source": [
    "g = i = l = 520\n",
    "print(g,i,l)"
   ]
  },
  {
   "cell_type": "markdown",
   "metadata": {},
   "source": [
    "### Dynamic way of Type casting  values"
   ]
  },
  {
   "cell_type": "code",
   "execution_count": 32,
   "metadata": {},
   "outputs": [
    {
     "name": "stdout",
     "output_type": "stream",
     "text": [
      "540\n",
      "540 <class 'str'>\n",
      "540 <class 'int'>\n"
     ]
    }
   ],
   "source": [
    "a = input()\n",
    "print(a,type(a))\n",
    "print(int(a),type(int(a)))"
   ]
  },
  {
   "cell_type": "code",
   "execution_count": 31,
   "metadata": {},
   "outputs": [
    {
     "name": "stdout",
     "output_type": "stream",
     "text": [
      "Enter a number:23.00054968\n",
      "23.00054968 <class 'str'>\n",
      "23.00054968 <class 'float'>\n"
     ]
    }
   ],
   "source": [
    "a = input(\"Enter a number:\")\n",
    "print(a,type(a))\n",
    "print(float(a),type(float(a)))"
   ]
  },
  {
   "cell_type": "code",
   "execution_count": 33,
   "metadata": {},
   "outputs": [
    {
     "name": "stdout",
     "output_type": "stream",
     "text": [
      "4740470979473597095\n",
      "4740470979473597095 <class 'int'>\n"
     ]
    }
   ],
   "source": [
    "p = int(input())\n",
    "print(p,type(p))"
   ]
  },
  {
   "cell_type": "code",
   "execution_count": 34,
   "metadata": {},
   "outputs": [
    {
     "name": "stdout",
     "output_type": "stream",
     "text": [
      "757398538653958757935837871404\n",
      "30\n"
     ]
    }
   ],
   "source": [
    "q = input()\n",
    "print(len(q))"
   ]
  },
  {
   "cell_type": "code",
   "execution_count": 12,
   "metadata": {},
   "outputs": [
    {
     "name": "stdout",
     "output_type": "stream",
     "text": [
      "22\n",
      "23\n",
      "Given numbers are 22.0 and 23.0\n",
      "Type casting of values to integers are 22 and 23\n",
      "Type casting of values to strings are ' 22.0 ' and ' 23 '\n"
     ]
    }
   ],
   "source": [
    "a = float(input())\n",
    "b = float(input())\n",
    "print(\"Given numbers are\",a,\"and\",b)\n",
    "print(\"Type casting of values to integers are\",int(a),\"and\",int(b))\n",
    "print(\"Type casting of values to strings are ' \"+str(a)+ \" ' and ' \"+str(int(b))+\" '\")"
   ]
  },
  {
   "cell_type": "markdown",
   "metadata": {},
   "source": [
    "# Operators\n",
    "    - Arithmetic -> +,-,*,/,%,//,**\n",
    "    - Relational -> >,<,>=,<=,!=,==\n",
    "    - Assignment -> +=,-=,*=,/=,%=\n",
    "    - Logical -> AND,OR,NOT\n",
    "    - Bitwise -> &,|,~,>>,<<\n",
    "    - Identity -> is, is not\n",
    "    - Membership -> in, not in"
   ]
  },
  {
   "cell_type": "code",
   "execution_count": 15,
   "metadata": {},
   "outputs": [
    {
     "name": "stdout",
     "output_type": "stream",
     "text": [
      "0\n",
      "736\n"
     ]
    }
   ],
   "source": [
    "n = 23\n",
    "print(n>>5)\n",
    "print(n<<5)"
   ]
  },
  {
   "cell_type": "code",
   "execution_count": 19,
   "metadata": {},
   "outputs": [
    {
     "name": "stdout",
     "output_type": "stream",
     "text": [
      "3\n",
      "2\n",
      "Square of 3 is 9\n",
      "Cube of 3 is 27\n",
      "Addition of 3 and 2 is 5\n",
      "Sub of 3 and 2 is 1\n",
      "multiplication of 3 and 2 is 6\n",
      "Division of 3 and 2 is 1.5\n",
      "floor division of 3 and 2 is 1\n",
      "Power of 3 and 2 is 9\n"
     ]
    }
   ],
   "source": [
    "i = int(input())\n",
    "j = int(input())\n",
    "k = int(i)\n",
    "print(\"Square of {} is {}\".format(k,k*k))\n",
    "print(\"Cube of {} is {}\".format(k,k*k*k))\n",
    "print(\"Addition of {} and {} is {}\".format(i,j,i+j))\n",
    "print(\"Sub of {} and {} is {}\".format(i,j,i-j))\n",
    "print(\"multiplication of {} and {} is {}\".format(i,j,i*j))\n",
    "print(\"Division of {} and {} is {}\".format(i,j,i/j))\n",
    "print(\"floor division of {} and {} is {}\".format(i,j,i//j))\n",
    "print(\"Power of {} and {} is {}\".format(i,j,i**j))      "
   ]
  },
  {
   "cell_type": "code",
   "execution_count": null,
   "metadata": {},
   "outputs": [],
   "source": []
  }
 ],
 "metadata": {
  "kernelspec": {
   "display_name": "Python 3",
   "language": "python",
   "name": "python3"
  },
  "language_info": {
   "codemirror_mode": {
    "name": "ipython",
    "version": 3
   },
   "file_extension": ".py",
   "mimetype": "text/x-python",
   "name": "python",
   "nbconvert_exporter": "python",
   "pygments_lexer": "ipython3",
   "version": "3.7.3"
  }
 },
 "nbformat": 4,
 "nbformat_minor": 2
}
